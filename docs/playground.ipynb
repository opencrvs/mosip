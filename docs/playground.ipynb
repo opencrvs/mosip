{
 "cells": [
  {
   "cell_type": "markdown",
   "metadata": {},
   "source": [
    "### Send a birth bundle to the mosip-api webhook without having to create a record in UI"
   ]
  },
  {
   "cell_type": "code",
   "execution_count": 11,
   "metadata": {},
   "outputs": [],
   "source": [
    "# Import birth bundle from .json\n",
    "\n",
    "import json\n",
    "\n",
    "with open('example-events/incoming-birth-bundle.json') as f:\n",
    "    event = json.load(f)\n",
    "    record_id = event[\"entry\"][0][\"resource\"][\"id\"]\n"
   ]
  },
  {
   "cell_type": "code",
   "execution_count": 13,
   "metadata": {},
   "outputs": [],
   "source": [
    "# Get a record-specific token\n",
    "# https://is-my-opencrvs-up.netlify.app/ token generator for the subject_token\n",
    "\n",
    "import requests\n",
    "\n",
    "url = \"http://localhost:4040/token\"\n",
    "querystring = {\"subject_token\":\"eyJhbGciOiJSUzI1NiIsInR5cCI6IkpXVCJ9.eyJzY29wZSI6WyJyZWNvcmQuZGVjbGFyZS1iaXJ0aCIsInJlY29yZC5kZWNsYXJlLWRlYXRoIiwicmVjb3JkLmRlY2xhcmUtbWFycmlhZ2UiLCJyZWNvcmQuZGVjbGFyYXRpb24tZWRpdCIsInJlY29yZC5kZWNsYXJhdGlvbi1zdWJtaXQtZm9yLXVwZGF0ZXMiLCJyZWNvcmQucmV2aWV3LWR1cGxpY2F0ZXMiLCJyZWNvcmQuZGVjbGFyYXRpb24tYXJjaGl2ZSIsInJlY29yZC5kZWNsYXJhdGlvbi1yZWluc3RhdGUiLCJyZWNvcmQucmVnaXN0ZXIiLCJyZWNvcmQucmVnaXN0cmF0aW9uLWNvcnJlY3QiLCJyZWNvcmQuZGVjbGFyYXRpb24tcHJpbnQtc3VwcG9ydGluZy1kb2N1bWVudHMiLCJyZWNvcmQuZXhwb3J0LXJlY29yZHMiLCJyZWNvcmQudW5hc3NpZ24tb3RoZXJzIiwicmVjb3JkLnJlZ2lzdHJhdGlvbi1wcmludCZpc3N1ZS1jZXJ0aWZpZWQtY29waWVzIiwicmVjb3JkLmNvbmZpcm0tcmVnaXN0cmF0aW9uIiwicmVjb3JkLnJlamVjdC1yZWdpc3RyYXRpb24iLCJwZXJmb3JtYW5jZS5yZWFkIiwicGVyZm9ybWFuY2UucmVhZC1kYXNoYm9hcmRzIiwicHJvZmlsZS5lbGVjdHJvbmljLXNpZ25hdHVyZSIsIm9yZ2FuaXNhdGlvbi5yZWFkLWxvY2F0aW9uczpteS1vZmZpY2UiLCJzZWFyY2guYmlydGgiLCJzZWFyY2guZGVhdGgiLCJzZWFyY2gubWFycmlhZ2UiLCJkZW1vIl0sImlhdCI6MTc0NDE4NjM2MiwiZXhwIjoxNzQ0NzkxMTYyLCJhdWQiOlsib3BlbmNydnM6YXV0aC11c2VyIiwib3BlbmNydnM6dXNlci1tZ250LXVzZXIiLCJvcGVuY3J2czpoZWFydGgtdXNlciIsIm9wZW5jcnZzOmdhdGV3YXktdXNlciIsIm9wZW5jcnZzOm5vdGlmaWNhdGlvbi11c2VyIiwib3BlbmNydnM6d29ya2Zsb3ctdXNlciIsIm9wZW5jcnZzOnNlYXJjaC11c2VyIiwib3BlbmNydnM6bWV0cmljcy11c2VyIiwib3BlbmNydnM6Y291bnRyeWNvbmZpZy11c2VyIiwib3BlbmNydnM6d2ViaG9va3MtdXNlciIsIm9wZW5jcnZzOmNvbmZpZy11c2VyIiwib3BlbmNydnM6ZG9jdW1lbnRzLXVzZXIiXSwiaXNzIjoib3BlbmNydnM6YXV0aC1zZXJ2aWNlIiwic3ViIjoiNjdiZDdlOWIyNTIyMDllMGRhYTI4NDcyIn0.acVPAPUEGZ_JwNNCBStUHODu7NYY8dsPNOjwktEJXWFQwgs2r9jjyJYsJVzIG51urj40OITXrHsAT0oDo5F9qjrjsEfiij9nyMAV2DIWfmWXAKfjvXphUfVIwGCGr10Q9KTAm3wbqpQ11nCE9GumEpyrU7OEDCObPWA_ZAfpGV2h471eL13hh8Q7wispMuIxLTo3fT_tQKRm84m1j9fgBH7jmeUymjQqEicMlWkhnsyFTzclHRy9UBEAJUHg6NoVQYS047llalss-6guW9-mKQMe1PcwCWjcg2J2TjNrPktJc7cGKgTm1ywnScywTpYvlSU2kDq2EgjXx1ZkTH_lnQ\",\n",
    "               \"grant_type\":\"urn:opencrvs:oauth:grant-type:token-exchange\",\n",
    "               \"subject_token_type\":\"urn:ietf:params:oauth:token-type:access_token\",\n",
    "               \"requested_token_type\":\"urn:opencrvs:oauth:token-type:single_record_token\",\n",
    "               \"record_id\": record_id}\n",
    "headers = {\n",
    "    \"Content-Type\": \"application/json\",\n",
    "}\n",
    "\n",
    "response = requests.request(\"POST\", url, headers=headers, params=querystring)\n",
    "token = response.json()[\"access_token\"]"
   ]
  },
  {
   "cell_type": "code",
   "execution_count": 14,
   "metadata": {},
   "outputs": [
    {
     "name": "stdout",
     "output_type": "stream",
     "text": [
      "500\n"
     ]
    }
   ],
   "source": [
    "# Register the event\n",
    "\n",
    "import requests\n",
    "\n",
    "url = \"http://localhost:2024/events/registration\"\n",
    "headers = {\"Authorization\": f\"Bearer {token}\"}\n",
    "response = requests.post(url, json=event, headers=headers)\n",
    "print(response.status_code)\n"
   ]
  },
  {
   "cell_type": "markdown",
   "metadata": {},
   "source": [
    "### Verification"
   ]
  },
  {
   "cell_type": "code",
   "execution_count": 9,
   "metadata": {},
   "outputs": [],
   "source": [
    "# Import birth bundle from .json\n",
    "\n",
    "import json\n",
    "\n",
    "with open('example-events/incoming-birth-bundle.json') as f:\n",
    "    event = json.load(f)\n",
    "    record_id = event[\"entry\"][0][\"resource\"][\"id\"]"
   ]
  },
  {
   "cell_type": "code",
   "execution_count": 9,
   "metadata": {},
   "outputs": [],
   "source": [
    "# Get a record-specific token\n",
    "# https://is-my-opencrvs-up.netlify.app/ token generator for the subject_token\n",
    "\n",
    "import requests\n",
    "\n",
    "url = \"http://localhost:4040/token\"\n",
    "querystring = {\"subject_token\":\"eyJhbGciOiJSUzI1NiIsInR5cCI6IkpXVCJ9.eyJzY29wZSI6WyJyZWNvcmQuZGVjbGFyZS1iaXJ0aCIsInJlY29yZC5kZWNsYXJlLWRlYXRoIiwicmVjb3JkLmRlY2xhcmUtbWFycmlhZ2UiLCJyZWNvcmQuZGVjbGFyYXRpb24tZWRpdCIsInJlY29yZC5kZWNsYXJhdGlvbi1zdWJtaXQtZm9yLXVwZGF0ZXMiLCJyZWNvcmQucmV2aWV3LWR1cGxpY2F0ZXMiLCJyZWNvcmQuZGVjbGFyYXRpb24tYXJjaGl2ZSIsInJlY29yZC5kZWNsYXJhdGlvbi1yZWluc3RhdGUiLCJyZWNvcmQucmVnaXN0ZXIiLCJyZWNvcmQucmVnaXN0cmF0aW9uLWNvcnJlY3QiLCJyZWNvcmQuZGVjbGFyYXRpb24tcHJpbnQtc3VwcG9ydGluZy1kb2N1bWVudHMiLCJyZWNvcmQuZXhwb3J0LXJlY29yZHMiLCJyZWNvcmQudW5hc3NpZ24tb3RoZXJzIiwicmVjb3JkLnJlZ2lzdHJhdGlvbi1wcmludCZpc3N1ZS1jZXJ0aWZpZWQtY29waWVzIiwicmVjb3JkLmNvbmZpcm0tcmVnaXN0cmF0aW9uIiwicmVjb3JkLnJlamVjdC1yZWdpc3RyYXRpb24iLCJwZXJmb3JtYW5jZS5yZWFkIiwicGVyZm9ybWFuY2UucmVhZC1kYXNoYm9hcmRzIiwicHJvZmlsZS5lbGVjdHJvbmljLXNpZ25hdHVyZSIsIm9yZ2FuaXNhdGlvbi5yZWFkLWxvY2F0aW9uczpteS1vZmZpY2UiLCJzZWFyY2guYmlydGgiLCJzZWFyY2guZGVhdGgiLCJzZWFyY2gubWFycmlhZ2UiLCJkZW1vIl0sImlhdCI6MTc0NDAyMTM1MiwiZXhwIjoxNzQ0NjI2MTUyLCJhdWQiOlsib3BlbmNydnM6YXV0aC11c2VyIiwib3BlbmNydnM6dXNlci1tZ250LXVzZXIiLCJvcGVuY3J2czpoZWFydGgtdXNlciIsIm9wZW5jcnZzOmdhdGV3YXktdXNlciIsIm9wZW5jcnZzOm5vdGlmaWNhdGlvbi11c2VyIiwib3BlbmNydnM6d29ya2Zsb3ctdXNlciIsIm9wZW5jcnZzOnNlYXJjaC11c2VyIiwib3BlbmNydnM6bWV0cmljcy11c2VyIiwib3BlbmNydnM6Y291bnRyeWNvbmZpZy11c2VyIiwib3BlbmNydnM6d2ViaG9va3MtdXNlciIsIm9wZW5jcnZzOmNvbmZpZy11c2VyIiwib3BlbmNydnM6ZG9jdW1lbnRzLXVzZXIiXSwiaXNzIjoib3BlbmNydnM6YXV0aC1zZXJ2aWNlIiwic3ViIjoiNjdiZDdlOWIyNTIyMDllMGRhYTI4NDcyIn0.Y8f_ZUyXUmVVNUEFNnAJsCPIcYCc-T1OzYt5u9nbp5hNPRSYSKxOH892CkWCpa3EZJIhjwxwKK6eN_Nl_X5BuPAojIKp7FFMYEve9o1YZsnXXisDvRplwjR4xYkSZFEwyTQYf-vLUhMeel0TM6iMngNu-cPl3A7V-4hDQXka6oOnyqdAivCiFfiD-UX8j-O1US71y0jSI8GUp5HT0431qKC08kN3qDolhoVySNUhJ4uwk1thiHOKUzFE_DBRy_kvZ-otXFQuG-04sXI245P-QbCnq8lRCp5RRKN5XwlTGAFAH40EMDlcRjQ6XtXzclEyGOdnIyacwFeoegVQldrkoA\",\n",
    "               \"grant_type\":\"urn:opencrvs:oauth:grant-type:token-exchange\",\n",
    "               \"subject_token_type\":\"urn:ietf:params:oauth:token-type:access_token\",\n",
    "               \"requested_token_type\":\"urn:opencrvs:oauth:token-type:single_record_token\",\n",
    "               \"record_id\": record_id}\n",
    "headers = {\n",
    "    \"Content-Type\": \"application/json\",\n",
    "}\n",
    "\n",
    "response = requests.request(\"POST\", url, headers=headers, params=querystring)\n",
    "token = response.json()[\"access_token\"]"
   ]
  },
  {
   "cell_type": "code",
   "execution_count": 10,
   "metadata": {},
   "outputs": [
    {
     "name": "stdout",
     "output_type": "stream",
     "text": [
      "202\n"
     ]
    }
   ],
   "source": [
    "# Review event\n",
    "\n",
    "import requests\n",
    "\n",
    "url = \"http://localhost:2024/events/review\"\n",
    "headers = {\"Authorization\": f\"Bearer {token}\"}\n",
    "response = requests.post(url, json=event, headers=headers)\n",
    "print(response.status_code)"
   ]
  }
 ],
 "metadata": {
  "kernelspec": {
   "display_name": "Python 3",
   "language": "python",
   "name": "python3"
  },
  "language_info": {
   "codemirror_mode": {
    "name": "ipython",
    "version": 3
   },
   "file_extension": ".py",
   "mimetype": "text/x-python",
   "name": "python",
   "nbconvert_exporter": "python",
   "pygments_lexer": "ipython3",
   "version": "3.12.2"
  }
 },
 "nbformat": 4,
 "nbformat_minor": 2
}
